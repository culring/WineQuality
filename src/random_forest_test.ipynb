{
 "cells": [
  {
   "cell_type": "code",
   "execution_count": 1,
   "metadata": {},
   "outputs": [],
   "source": [
    "from random_forest.random_forest import RandomForest\n",
    "from utils.data_modifier import DataModifier\n",
    "from utils.csv_data_parser import CsvDataParser\n",
    "import matplotlib.pyplot as plt\n",
    "from sklearn.model_selection import GridSearchCV\n",
    "from numpy import arange\n",
    "from sklearn.metrics import mean_squared_error as mae\n",
    "from sklearn.tree import DecisionTreeRegressor\n",
    "\n",
    "RED_PATH = r'..\\data\\winequality-red.csv'\n",
    "WHITE_PATH = r'..\\data\\winequality-white.csv'"
   ]
  },
  {
   "cell_type": "code",
   "execution_count": 12,
   "metadata": {},
   "outputs": [],
   "source": [
    "# prepare the data\n",
    "_, X, y = CsvDataParser.get_data(WHITE_PATH)\n",
    "# _, X2, y2 = CsvDataParser.get_data(WHITE_PATH)\n",
    "# X.extend(X2)\n",
    "# y.extend(y2)\n",
    "training_X, training_y, test_X, test_y = DataModifier.split_data(X, y, 0.8)"
   ]
  },
  {
   "cell_type": "code",
   "execution_count": 13,
   "metadata": {},
   "outputs": [
    {
     "data": {
      "text/plain": [
       "GridSearchCV(cv=None, error_score='raise',\n",
       "       estimator=RandomForest(n_features='all', n_trees=1, samples='all'),\n",
       "       fit_params=None, iid=True, n_jobs=16,\n",
       "       param_grid=[{'n_trees': [20], 'samples': [0.8], 'n_features': [7]}],\n",
       "       pre_dispatch='2*n_jobs', refit=True, return_train_score='warn',\n",
       "       scoring='neg_mean_absolute_error', verbose=0)"
      ]
     },
     "execution_count": 13,
     "metadata": {},
     "output_type": "execute_result"
    }
   ],
   "source": [
    "# search the parameter space\n",
    "param_grid = [\n",
    "    {'n_trees': [20], 'samples': [0.8], 'n_features': [7]}\n",
    "]\n",
    "clf = RandomForest()\n",
    "gs = GridSearchCV(clf, param_grid, n_jobs=16, scoring='neg_mean_absolute_error')\n",
    "gs.fit(X, y)"
   ]
  },
  {
   "cell_type": "code",
   "execution_count": 11,
   "metadata": {},
   "outputs": [
    {
     "name": "stdout",
     "output_type": "stream",
     "text": [
      "{'n_features': 7, 'n_trees': 20, 'samples': 0.8} -0.5375547217010631\n"
     ]
    }
   ],
   "source": [
    "# print the parameters and best score of the best found model\n",
    "print(gs.best_params_, gs.best_score_)"
   ]
  }
 ],
 "metadata": {
  "kernelspec": {
   "display_name": "Python 3",
   "language": "python",
   "name": "python3"
  },
  "language_info": {
   "codemirror_mode": {
    "name": "ipython",
    "version": 3
   },
   "file_extension": ".py",
   "mimetype": "text/x-python",
   "name": "python",
   "nbconvert_exporter": "python",
   "pygments_lexer": "ipython3",
   "version": "3.6.4"
  }
 },
 "nbformat": 4,
 "nbformat_minor": 2
}
