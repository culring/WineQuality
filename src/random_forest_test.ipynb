{
 "cells": [
  {
   "cell_type": "code",
   "execution_count": 1,
   "metadata": {},
   "outputs": [],
   "source": [
    "from wine_quality.random_forest.random_forest import RandomForest\n",
    "from wine_quality.data_modifier import DataModifier\n",
    "from wine_quality.csv_data_parser import CsvDataParser\n",
    "\n",
    "RED_PATH = r'..\\data\\winequality-red.csv'\n",
    "WHITE_PATH = r'..\\data\\winequality-white.csv'\n",
    "\n",
    "def calculate_error(pred_y, y):\n",
    "    mean_y = sum(y)/len(y)\n",
    "    pred_deviation = sum([(pred_value - mean_y)**2 for pred_value in pred_y])\n",
    "    mean_deviation = sum([(true_value - mean_y)**2 for true_value in y])\n",
    "    \n",
    "    return pred_deviation/mean_deviation"
   ]
  },
  {
   "cell_type": "code",
   "execution_count": 52,
   "metadata": {},
   "outputs": [],
   "source": [
    "# prepare the data\n",
    "_, X, y = CsvDataParser.get_data(RED_PATH)\n",
    "_, X2, y2 = CsvDataParser.get_data(WHITE_PATH)\n",
    "X.extend(X2)\n",
    "y.extend(y2)\n",
    "training_X, training_y, test_X, test_y = DataModifier.split_data(X, y, 0.8)"
   ]
  },
  {
   "cell_type": "code",
   "execution_count": 59,
   "metadata": {},
   "outputs": [],
   "source": [
    "forest = RandomForest()\n",
    "forest.fit(training_X, training_y, n_trees=40, n_samples=6)"
   ]
  },
  {
   "cell_type": "code",
   "execution_count": 57,
   "metadata": {},
   "outputs": [],
   "source": [
    "pred_y = forest.predict(test_X)"
   ]
  },
  {
   "cell_type": "code",
   "execution_count": 58,
   "metadata": {},
   "outputs": [
    {
     "data": {
      "text/plain": [
       "array([0.24346062])"
      ]
     },
     "execution_count": 58,
     "metadata": {},
     "output_type": "execute_result"
    }
   ],
   "source": [
    "calculate_error(pred_y, test_y)"
   ]
  }
 ],
 "metadata": {
  "kernelspec": {
   "display_name": "Python 3",
   "language": "python",
   "name": "python3"
  },
  "language_info": {
   "codemirror_mode": {
    "name": "ipython",
    "version": 3
   },
   "file_extension": ".py",
   "mimetype": "text/x-python",
   "name": "python",
   "nbconvert_exporter": "python",
   "pygments_lexer": "ipython3",
   "version": "3.6.4"
  }
 },
 "nbformat": 4,
 "nbformat_minor": 2
}
